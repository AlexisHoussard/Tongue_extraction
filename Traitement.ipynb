{
 "cells": [
  {
   "cell_type": "markdown",
   "metadata": {},
   "source": [
    "# Traitement des images et vérification"
   ]
  },
  {
   "cell_type": "code",
   "execution_count": 4,
   "metadata": {},
   "outputs": [],
   "source": [
    "# en tête\n",
    "from PIL import Image\n",
    "import matplotlib.pyplot as plt\n",
    "import matplotlib.image as mpimg\n",
    "import imageio\n",
    "import sys, os\n",
    "import numpy as np\n",
    "\n",
    "left = 4\n",
    "top = 4\n",
    "width = 128\n",
    "height = 128"
   ]
  },
  {
   "cell_type": "code",
   "execution_count": 2,
   "metadata": {},
   "outputs": [],
   "source": [
    "# séparer une chaîne de caractère en deux au niveau de l'espace\n",
    "def txtsplit(mess):\n",
    "    left = []\n",
    "    while mess[0] != \" \":\n",
    "        left.append(mess[0])\n",
    "        mess = mess[1:]\n",
    "    return left,mess[1:]"
   ]
  },
  {
   "cell_type": "code",
   "execution_count": 3,
   "metadata": {},
   "outputs": [],
   "source": [
    "# Supprime tous les fichiers d'un dossier\n",
    "def removeall(path):\n",
    "\n",
    "    if not os.path.isdir(path):\n",
    "        return\n",
    "    \n",
    "    files=os.listdir(path)\n",
    "\n",
    "    for x in files:\n",
    "        fullpath=os.path.join(path, x)\n",
    "        if os.path.isfile(fullpath):\n",
    "            os.remove(fullpath)"
   ]
  },
  {
   "cell_type": "markdown",
   "metadata": {},
   "source": [
    "## Dessin des contours filiformes\n",
    "\n",
    "Récupère les contours sous format .ctr dans le dossier Documents/Images et enregistre les contours filiformes dans le fichier Images/128_contours_line en les redimensionnant au format 128x128"
   ]
  },
  {
   "cell_type": "code",
   "execution_count": 1,
   "metadata": {},
   "outputs": [
    {
     "ename": "NameError",
     "evalue": "name 'Image' is not defined",
     "output_type": "error",
     "traceback": [
      "\u001b[0;31m---------------------------------------------------------------------------\u001b[0m",
      "\u001b[0;31mNameError\u001b[0m                                 Traceback (most recent call last)",
      "\u001b[0;32m<ipython-input-1-7e1647be988c>\u001b[0m in \u001b[0;36m<module>\u001b[0;34m\u001b[0m\n\u001b[1;32m      4\u001b[0m     \u001b[0mname\u001b[0m \u001b[0;34m=\u001b[0m \u001b[0;34m''\u001b[0m\u001b[0;34m.\u001b[0m\u001b[0mjoin\u001b[0m\u001b[0;34m(\u001b[0m\u001b[0mim\u001b[0m\u001b[0;34m[\u001b[0m\u001b[0;34m:\u001b[0m\u001b[0;36m6\u001b[0m\u001b[0;34m]\u001b[0m\u001b[0;34m)\u001b[0m\u001b[0;34m\u001b[0m\u001b[0;34m\u001b[0m\u001b[0m\n\u001b[1;32m      5\u001b[0m     \u001b[0;31m#Chargement de l'image graphique\u001b[0m\u001b[0;34m\u001b[0m\u001b[0;34m\u001b[0m\u001b[0;34m\u001b[0m\u001b[0m\n\u001b[0;32m----> 6\u001b[0;31m     \u001b[0mimg\u001b[0m \u001b[0;34m=\u001b[0m \u001b[0mImage\u001b[0m\u001b[0;34m.\u001b[0m\u001b[0mnew\u001b[0m\u001b[0;34m(\u001b[0m\u001b[0;34m'RGB'\u001b[0m\u001b[0;34m,\u001b[0m \u001b[0;34m(\u001b[0m\u001b[0;36m136\u001b[0m\u001b[0;34m,\u001b[0m \u001b[0;36m136\u001b[0m\u001b[0;34m)\u001b[0m\u001b[0;34m,\u001b[0m \u001b[0mcolor\u001b[0m \u001b[0;34m=\u001b[0m \u001b[0;34m'white'\u001b[0m\u001b[0;34m)\u001b[0m\u001b[0;34m\u001b[0m\u001b[0;34m\u001b[0m\u001b[0m\n\u001b[0m\u001b[1;32m      7\u001b[0m     \u001b[0mfic\u001b[0m \u001b[0;34m=\u001b[0m \u001b[0mopen\u001b[0m\u001b[0;34m(\u001b[0m\u001b[0;34m\"Images/originals/\"\u001b[0m \u001b[0;34m+\u001b[0m \u001b[0mname\u001b[0m \u001b[0;34m+\u001b[0m \u001b[0;34m\".ctr\"\u001b[0m\u001b[0;34m,\u001b[0m \u001b[0;34m\"r\"\u001b[0m\u001b[0;34m,\u001b[0m\u001b[0mencoding\u001b[0m\u001b[0;34m=\u001b[0m\u001b[0;34m\"utf8\"\u001b[0m\u001b[0;34m,\u001b[0m \u001b[0merrors\u001b[0m\u001b[0;34m=\u001b[0m\u001b[0;34m'ignore'\u001b[0m\u001b[0;34m)\u001b[0m\u001b[0;34m\u001b[0m\u001b[0;34m\u001b[0m\u001b[0m\n\u001b[1;32m      8\u001b[0m     \u001b[0mlines\u001b[0m \u001b[0;34m=\u001b[0m \u001b[0mfic\u001b[0m\u001b[0;34m.\u001b[0m\u001b[0mreadlines\u001b[0m\u001b[0;34m(\u001b[0m\u001b[0;34m)\u001b[0m\u001b[0;34m\u001b[0m\u001b[0;34m\u001b[0m\u001b[0m\n",
      "\u001b[0;31mNameError\u001b[0m: name 'Image' is not defined"
     ]
    }
   ],
   "source": [
    "list_images = open(\"Images/originals/liste\", \"r\",encoding=\"utf8\", errors='ignore')\n",
    "name_images =list_images.readlines()\n",
    "for im in name_images[1142:1415]:\n",
    "    name = ''.join(im[:6])\n",
    "    #Chargement de l'image graphique\n",
    "    img = Image.new('RGB', (136, 136), color = 'white')\n",
    "    fic = open(\"Images/originals/\" + name + \".ctr\", \"r\",encoding=\"utf8\", errors='ignore')\n",
    "    lines = fic.readlines()\n",
    "    long = len(lines)\n",
    "    \n",
    "    if long > 23:\n",
    "        i = 0\n",
    "        while (i<long) and (lines[i][0] != \"t\") :\n",
    "            i+=1\n",
    "        i+=23\n",
    "        \n",
    "    if i < long:\n",
    "        nombre_points = 0\n",
    "        #tracé de points\n",
    "        while lines[i][0] != \"-\":\n",
    "            z,t = txtsplit(lines[i])\n",
    "            x = round(float(''.join(z)))\n",
    "            y = round(float(''.join(t)))\n",
    "            img.putpixel((x,y),(0,0,0))\n",
    "            draw = ImageDraw.Draw(img)\n",
    "            if nombre_points > 0:\n",
    "                draw.line((x_prec, y_prec,x,y), fill=\"black\")\n",
    "            i +=1\n",
    "            x_prec , y_prec = x,y\n",
    "            nombre_points +=1\n",
    "      \n",
    "    box = (left, top, left+width, top+height)\n",
    "\n",
    "    area = img.crop(box)\n",
    "    area.save(\"Images/128_contours_line/\" + name + \".png\", \"PNG\")      \n",
    "list_images.close()"
   ]
  },
  {
   "cell_type": "markdown",
   "metadata": {},
   "source": [
    "## Redimensionnement des images\n",
    "\n",
    "Redimensionnement des images IRM au format 128x128 et enregistrement dans le dossier Images/128_sized"
   ]
  },
  {
   "cell_type": "code",
   "execution_count": 13,
   "metadata": {},
   "outputs": [],
   "source": [
    "list_images = open(\"Images/originals/liste\", \"r\",encoding=\"utf8\", errors='ignore')\n",
    "name_images =list_images.readlines()\n",
    "\n",
    "for im in name_images[1142:1415]: #selection des images contourees\n",
    "    name = ''.join(im[:6])\n",
    "    im = Image.open(\"/Images/originals/\" + name + \".pgm\")\n",
    "    \n",
    "    box = (left, top, left+width, top+height)\n",
    "    area = im.crop(box)\n",
    "    \n",
    "    area.save(\"Images/128_sized/\" + name + \".png\", \"PNG\")"
   ]
  },
  {
   "cell_type": "markdown",
   "metadata": {},
   "source": [
    "# Enregistrement des images d'entrainement du modele Ultrasound"
   ]
  },
  {
   "cell_type": "code",
   "execution_count": 6,
   "metadata": {},
   "outputs": [],
   "source": [
    "#Nombre d'images sur lesquelles s'entrainer à partir de la première séquence d'images (272 images max)\n",
    "\n",
    "num_imgs = 272\n",
    "num_img_max = len(os.listdir(\"Images/128_contours_line/\"))\n",
    "if num_imgs <1 or num_imgs>num_img_max:\n",
    "    print(\"Nombre d'images d'entrainement demandé invalide!!\\n \")"
   ]
  },
  {
   "cell_type": "markdown",
   "metadata": {},
   "source": [
    "## Masques \n",
    "\n",
    "Copie au bon format des contours depuis Images/128_contours_line vers le dossier de training"
   ]
  },
  {
   "cell_type": "code",
   "execution_count": 5,
   "metadata": {},
   "outputs": [],
   "source": [
    "#Effacement des fichiers de training\n",
    "removeall(\"UltrasoundImageSegmentation/ultrasound segmentation-Single image/train/\")\n",
    "\n",
    "list_images = open(\"Images/originals/liste\", \"r\",encoding=\"utf8\", errors='ignore')\n",
    "name_images =list_images.readlines()\n",
    "i = 0\n",
    "for im in name_images[1142:1142 + num_imgs]:\n",
    "    name = ''.join(im[:6])\n",
    "    im = Image.open(\"Images/128_contours_line/\" + name + \".png\")\n",
    "    \n",
    "    im.save(\"UltrasoundImageSegmentation/ultrasound segmentation-Single image/train/\" + str(i) + \"_mask.tif\", \"PNG\")\n",
    "    i += 1"
   ]
  },
  {
   "cell_type": "markdown",
   "metadata": {},
   "source": [
    "## Images IRM\n",
    "\n",
    "Copie au bon format des images depuis Images/128_sized vers le dossier de training"
   ]
  },
  {
   "cell_type": "code",
   "execution_count": 6,
   "metadata": {},
   "outputs": [],
   "source": [
    "#removeall(\"UltrasoundImageSegmentation/ultrasound segmentation-Single image/train/\")\n",
    "\n",
    "list_images = open(\"Images/originals/liste\", \"r\",encoding=\"utf8\", errors='ignore')\n",
    "name_images =list_images.readlines()\n",
    "i = 0\n",
    "for im in name_images[1142:1142 + num_imgs]:\n",
    "    name = ''.join(im[:6])\n",
    "    im = Image.open(\"Images/128_sized/\" + name + \".png\")\n",
    "    \n",
    "    im.save(\"UltrasoundImageSegmentation/ultrasound segmentation-Single image/train/\" + str(i) + \".tif\", \"PNG\")\n",
    "    i += 1"
   ]
  },
  {
   "cell_type": "markdown",
   "metadata": {},
   "source": [
    "## Ajout des images et des masques provenant d'une autre séquence \n",
    "\n",
    "Copie des images et contours issus d'une autre séquence d'images vers le dossier de training (attention, il n'y a pas à modifier le format ici car le dossier est déjà arrangé pour l'entraînement)"
   ]
  },
  {
   "cell_type": "code",
   "execution_count": 7,
   "metadata": {},
   "outputs": [],
   "source": [
    "import shutil\n",
    "way_of_images = \"Images/8066_0011_contours1/\"\n",
    "way_of_training = \"UltrasoundImageSegmentation/ultrasound segmentation-Single image/train/\"\n",
    "files = os.listdir(way_of_images)\n",
    "\n",
    "for file in files:\n",
    "    shutil.copy(way_of_images +file, way_of_training + file)"
   ]
  },
  {
   "cell_type": "markdown",
   "metadata": {},
   "source": [
    "## Images de test\n",
    "\n",
    "Il est nécessaire d'enregistrer un lot d'images de test dans le sous-dossier test, ici une centaine d'images suffit. J'ai choisi de manière arbitraire les images numérotées de 1800 à 1900 dans la première séquence."
   ]
  },
  {
   "cell_type": "code",
   "execution_count": 27,
   "metadata": {},
   "outputs": [],
   "source": [
    "j = 0\n",
    "for i in range(1800,1901): #100 images de maniere arbitraire\n",
    "    im = Image.open(\"UltrasoundImageSegmentation/ultrasound segmentation-Single image/test/i-\" + str(i) + \".png\")\n",
    "    im.save(\"UltrasoundImageSegmentation/ultrasound segmentation-Single image/test/\" + str(j) + \".tif\", \"PNG\")\n",
    "    j+=1"
   ]
  },
  {
   "cell_type": "markdown",
   "metadata": {},
   "source": [
    "# Data Augmentation"
   ]
  },
  {
   "cell_type": "markdown",
   "metadata": {},
   "source": [
    "## Translation\n",
    "\n",
    "Translation des images et des masques puis enregistrement dans le dossier Images/translations_contours\n",
    "Il reste à les mettre dans le dossier de training si nécessaire"
   ]
  },
  {
   "cell_type": "code",
   "execution_count": 31,
   "metadata": {},
   "outputs": [],
   "source": [
    "from PIL import Image,ImageFilter\n",
    "\n",
    "trans = (20,20)\n",
    "\n",
    "list_images = open(\"Images/originals/liste\", \"r\",encoding=\"utf8\", errors='ignore')\n",
    "name_images =list_images.readlines()\n",
    "for im in name_images[1142:1415]:\n",
    "    name = ''.join(im[:6])\n",
    "    im = Image.open(\"Images/128_sized/\" + name + \".png\")\n",
    "    mask = Image.open(\"Images/128_contours_line/\" + name + \".png\")\n",
    "    img = im.rotate(0,translate=trans)\n",
    "    Mask = mask.rotate(0,translate=trans)\n",
    "    img.save(\"Images/translations/trs_\" + name + \".png\")\n",
    "    \n",
    "    taille = Mask.size[0]\n",
    "\n",
    "    #etape de remise de blanc sur le masque\n",
    "    \n",
    "    for i in range(taille):\n",
    "        for j in range(20):\n",
    "            Mask.putpixel((i,j),(255,255,255))\n",
    "            Mask.putpixel((j,i),(255,255,255))\n",
    "        \n",
    "    Mask.save(\"Images/translations_contours/trs_\" + name + \".png\")"
   ]
  },
  {
   "cell_type": "markdown",
   "metadata": {},
   "source": [
    "## Vérification: Superposition image/masque\n",
    "\n",
    "Visualisation d'un contour généré en sortie du réseau sur l'image d'origine (les images de sortie sont enregistrées dans le sous-dossier **model_outputs** avec leurs masques comportant le numéro du checkpoint utilisé sous la forme \"nom_image - num_checkpoint _mask.png\""
   ]
  },
  {
   "cell_type": "code",
   "execution_count": 5,
   "metadata": {},
   "outputs": [],
   "source": [
    "\n",
    "def superpose(image, masque):\n",
    "    \n",
    "    foreground = Image.open(masque).convert(\"RGB\")\n",
    "    \n",
    "    background = Image.open(image).convert(\"RGB\")\n",
    "    img = Image.blend(background,foreground,0.5)\n",
    "    \n",
    "    plt.imshow(img)\n",
    "    plt.show()\n",
    "    #plt.imsave(\"Documents/Rapport/final2.png\",img)"
   ]
  },
  {
   "cell_type": "code",
   "execution_count": 6,
   "metadata": {},
   "outputs": [
    {
     "data": {
      "image/png": "[encoded data removed]",
      "text/plain": [
       "<Figure size 432x288 with 1 Axes>"
      ]
     },
     "metadata": {
      "needs_background": "light"
     },
     "output_type": "display_data"
    }
   ],
   "source": [
    "superpose(\"UltrasoundImageSegmentation/ultrasound segmentation-Single image/model_outputs/i-1150.png\",\"UltrasoundImageSegmentation/ultrasound segmentation-Single image/model_outputs/i-1150-6250_mask.png\")"
   ]
  },
  {
   "cell_type": "markdown",
   "metadata": {},
   "source": [
    "## Vérification manuelle"
   ]
  },
  {
   "cell_type": "code",
   "execution_count": 53,
   "metadata": {},
   "outputs": [],
   "source": [
    "# évaluation de la similarité entre un masque et la prédiction du réseau\n",
    "def similarity(mask,predicted):\n",
    "    #ouverture des images\n",
    "    mat1 = imageio.imread(mask,as_gray=True)\n",
    "    mat2 = imageio.imread(predicted,as_gray=True)\n",
    "    \n",
    "    long = len(mat1)\n",
    "    # comparaison des pixels\n",
    "    inter = 0            #Cardinal of the intersection\n",
    "    card_predicted = 0   #Cardinal of the predicted image\n",
    "    for i in range(long):\n",
    "        for j in range(long):\n",
    "            if(int(mat2[i][j]) == 0):\n",
    "                card_predicted += 1\n",
    "                if(int(mat1[i][j]) == 0):\n",
    "                    inter += 1\n",
    "    return inter/card_predicted"
   ]
  },
  {
   "cell_type": "code",
   "execution_count": 63,
   "metadata": {},
   "outputs": [],
   "source": [
    "# calcul du nombre d'itérations du modèle maximisant la moyenne des similarités pour tous les checkpoints\n",
    "def validation_test():\n",
    "    list_images = os.listdir('UltrasoundImageSegmentation/ultrasound segmentation-Single image/test_num_epoch/')\n",
    "    number_of_images = len(list_images)\n",
    "    step_max = 12000\n",
    "    gap = 250\n",
    "    number_of_ckpt = int(step_max / gap) + 1\n",
    "    similarities = np.zeros((number_of_ckpt,number_of_images))\n",
    "    for i in range(number_of_ckpt):\n",
    "        num_ckpt = i * gap\n",
    "        for j in range(number_of_images):\n",
    "            im = list_images[j]\n",
    "            mask = \"Images/128_contours_line/\" + im\n",
    "            predicted = \"/home/alexis/UltrasoundImageSegmentation/ultrasound segmentation-Single image/model_outputs/test-nepoch/\" + im[:-4] + \"-\" + str(num_ckpt) + \"_mask.png\"\n",
    "            similarities[i][j] = similarity(mask,predicted)\n",
    "    mean = np.apply_along_axis(np.mean,1,similarities) #compute the mean of each checkpoint in an array\n",
    "    similarity_max = np.where(mean == np.amax(mean))[0] #calculate the index of max similarity\n",
    "    return similarity_max*gap"
   ]
  },
  {
   "cell_type": "code",
   "execution_count": 64,
   "metadata": {},
   "outputs": [
    {
     "data": {
      "text/plain": [
       "array([11750])"
      ]
     },
     "execution_count": 64,
     "metadata": {},
     "output_type": "execute_result"
    }
   ],
   "source": [
    "validation_test()"
   ]
  },
  {
   "cell_type": "code",
   "execution_count": null,
   "metadata": {},
   "outputs": [],
   "source": []
  }
 ],
 "metadata": {
  "kernelspec": {
   "display_name": "Python 3",
   "language": "python",
   "name": "python3"
  },
  "language_info": {
   "codemirror_mode": {
    "name": "ipython",
    "version": 3
   },
   "file_extension": ".py",
   "mimetype": "text/x-python",
   "name": "python",
   "nbconvert_exporter": "python",
   "pygments_lexer": "ipython3",
   "version": "3.7.3"
  }
 },
 "nbformat": 4,
 "nbformat_minor": 2
}
